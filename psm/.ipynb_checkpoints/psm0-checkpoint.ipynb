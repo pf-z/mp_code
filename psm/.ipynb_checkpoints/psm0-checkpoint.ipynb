{
 "cells": [
  {
   "cell_type": "code",
   "execution_count": 2,
   "id": "d4254aac-55b0-4338-90f1-a7754f41d312",
   "metadata": {
    "tags": []
   },
   "outputs": [
    {
     "ename": "ModuleNotFoundError",
     "evalue": "No module named 'seaborn'",
     "output_type": "error",
     "traceback": [
      "\u001b[0;31m---------------------------------------------------------------------------\u001b[0m",
      "\u001b[0;31mModuleNotFoundError\u001b[0m                       Traceback (most recent call last)",
      "\u001b[0;32m/var/folders/l9/7x451g6n2y91ptkr7k4fy6fr0000gn/T/ipykernel_7112/2331081881.py\u001b[0m in \u001b[0;36m<cell line: 4>\u001b[0;34m()\u001b[0m\n\u001b[1;32m      2\u001b[0m \u001b[0;32mimport\u001b[0m \u001b[0mpandas\u001b[0m \u001b[0;32mas\u001b[0m \u001b[0mpd\u001b[0m\u001b[0;34m\u001b[0m\u001b[0;34m\u001b[0m\u001b[0m\n\u001b[1;32m      3\u001b[0m \u001b[0;32mimport\u001b[0m \u001b[0mmatplotlib\u001b[0m\u001b[0;34m.\u001b[0m\u001b[0mpyplot\u001b[0m \u001b[0;32mas\u001b[0m \u001b[0mplt\u001b[0m\u001b[0;34m\u001b[0m\u001b[0;34m\u001b[0m\u001b[0m\n\u001b[0;32m----> 4\u001b[0;31m \u001b[0;32mimport\u001b[0m \u001b[0mseaborn\u001b[0m \u001b[0;32mas\u001b[0m \u001b[0msns\u001b[0m\u001b[0;34m\u001b[0m\u001b[0;34m\u001b[0m\u001b[0m\n\u001b[0m\u001b[1;32m      5\u001b[0m \u001b[0;34m\u001b[0m\u001b[0m\n\u001b[1;32m      6\u001b[0m \u001b[0;31m# 假设数据：我们有一个处理组 T=1 和对照组 T=0\u001b[0m\u001b[0;34m\u001b[0m\u001b[0;34m\u001b[0m\u001b[0m\n",
      "\u001b[0;31mModuleNotFoundError\u001b[0m: No module named 'seaborn'"
     ]
    }
   ],
   "source": [
    "import numpy as np\n",
    "import pandas as pd\n",
    "import matplotlib.pyplot as plt\n",
    "import seaborn as sns\n",
    "\n",
    "# 假设数据：我们有一个处理组 T=1 和对照组 T=0\n",
    "# 生成假数据\n",
    "np.random.seed(42)\n",
    "\n",
    "# 创建一个数据框\n",
    "n = 1000  # 样本大小\n",
    "data = pd.DataFrame({\n",
    "    'X1': np.random.normal(0, 1, n),  # 协变量X1\n",
    "    'X2': np.random.normal(5, 2, n),  # 协变量X2\n",
    "    'T': np.random.choice([0, 1], size=n)  # 处理组和对照组\n",
    "})\n",
    "\n",
    "# 假设在匹配之前，处理组和对照组在 X1 和 X2 上有不同的分布\n",
    "data.loc[data['T'] == 1, 'X1'] += 2  # 处理组在X1上有2的偏移\n",
    "data.loc[data['T'] == 0, 'X2'] -= 1  # 对照组在X2上有1的偏移\n",
    "\n",
    "# 匹配后的数据（模拟匹配后，处理组和对照组的分布差异已缩小）\n",
    "# 假设这里已经进行了匹配，处理后数据的分布已经更为接近\n",
    "data.loc[data['T'] == 1, 'X1'] -= 1  # 处理组X1的分布已经调整\n",
    "data.loc[data['T'] == 0, 'X2'] += 0.5  # 对照组X2的分布也有所调整\n",
    "\n",
    "# 绘制平衡图：通过比较处理组和对照组的协变量分布\n",
    "fig, axes = plt.subplots(1, 2, figsize=(14, 6))\n",
    "\n",
    "# 绘制 X1 的分布\n",
    "sns.histplot(data[data['T'] == 1]['X1'], kde=True, color='blue', label='Treatment', ax=axes[0], stat='density', linewidth=0)\n",
    "sns.histplot(data[data['T'] == 0]['X1'], kde=True, color='red', label='Control', ax=axes[0], stat='density', linewidth=0)\n",
    "axes[0].set_title('Distribution of X1 (Treatment vs Control)')\n",
    "axes[0].set_xlabel('X1')\n",
    "axes[0].set_ylabel('Density')\n",
    "axes[0].legend()\n",
    "\n",
    "# 绘制 X2 的分布\n",
    "sns.histplot(data[data['T'] == 1]['X2'], kde=True, color='blue', label='Treatment', ax=axes[1], stat='density', linewidth=0)\n",
    "sns.histplot(data[data['T'] == 0]['X2'], kde=True, color='red', label='Control', ax=axes[1], stat='density', linewidth=0)\n",
    "axes[1].set_title('Distribution of X2 (Treatment vs Control)')\n",
    "axes[1].set_xlabel('X2')\n",
    "axes[1].set_ylabel('Density')\n",
    "axes[1].legend()\n",
    "\n",
    "plt.tight_layout()\n",
    "plt.show()\n"
   ]
  }
 ],
 "metadata": {
  "kernelspec": {
   "display_name": "Python 3 (ipykernel)",
   "language": "python",
   "name": "python3"
  },
  "language_info": {
   "codemirror_mode": {
    "name": "ipython",
    "version": 3
   },
   "file_extension": ".py",
   "mimetype": "text/x-python",
   "name": "python",
   "nbconvert_exporter": "python",
   "pygments_lexer": "ipython3",
   "version": "3.10.16"
  }
 },
 "nbformat": 4,
 "nbformat_minor": 5
}
